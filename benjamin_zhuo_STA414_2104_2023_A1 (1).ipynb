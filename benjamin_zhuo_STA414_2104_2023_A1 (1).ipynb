{
  "nbformat": 4,
  "nbformat_minor": 0,
  "metadata": {
    "colab": {
      "provenance": []
    },
    "kernelspec": {
      "name": "python3",
      "display_name": "Python 3"
    },
    "language_info": {
      "name": "python"
    }
  },
  "cells": [
    {
      "cell_type": "markdown",
      "source": [
        "V1: Last Edited: 2024-01-25\n",
        "\n",
        "Changes: v0 -> v1 Q2: Remove the data point that cause log(0) Q1: three -> four\n"
      ],
      "metadata": {
        "id": "fBeKYERsR9b6"
      }
    },
    {
      "cell_type": "markdown",
      "source": [
        "- **Deadline**: Feb 5, at 23:59PM.\n",
        "- **Submission**: You need to submit your solutions through Crowdmark, including all your derivations, plots, and your code. You can produce the files however you like (e.g. LATEX, Microsoft Word, etc), as long as it is readable. Points will be deducted if we have a hard time reading your solutions or understanding the structure of your code.\n",
        "- **Collaboration policy**: After attempting the problems on an individual basis, you may discuss and work together on the assignment with up to two classmates. However, **you must write your own code and write up your own solutions individually and explicitly name any collaborators** at the top of the homework."
      ],
      "metadata": {
        "id": "ZD9tV8zbU2dp"
      }
    },
    {
      "cell_type": "markdown",
      "source": [
        "# Q1 - Decision Theory"
      ],
      "metadata": {
        "id": "QI9CD9BCoh5a"
      }
    },
    {
      "cell_type": "markdown",
      "source": [
        "One successful use of probabilistic models is for building spam filters, which take in an email and take different actions depending on the likelihood that it’s spam.\n",
        "\n",
        "Imagine you are running an email service. You have a well-calibrated spam classifier that tells you the probability that a particular email is spam: $p(spam|email)$. You have four options for what to do with each email: You can list it as important email, show it to the user, put it in the spam folder, or delete it entirely.\n",
        "\n",
        "Depending on whether or not the email really is spam, the user will suffer a different amount  of wasted time for the different actions we can take, $L$(action, spam):\n",
        "\n",
        "Action   | Spam        | Not spam\n",
        "-------- | ----------- | -----------\n",
        "Important| 15         | 0\n",
        "Show     | 5          | 1\n",
        "Folder   | 1           | 40\n",
        "Delete   | 0           | 150"
      ],
      "metadata": {
        "id": "lqGwGkzkokTV"
      }
    },
    {
      "cell_type": "markdown",
      "source": [],
      "metadata": {
        "id": "MrQFeFh6eq1f"
      }
    },
    {
      "cell_type": "markdown",
      "source": [
        "## Q1.1\n",
        "[3pts] Plot the expected wasted user time for each of the three possible actions, as a function of the probability of spam: $p(spam|email)$."
      ],
      "metadata": {
        "id": "2V_k3L8ByUs9"
      }
    },
    {
      "cell_type": "code",
      "source": [
        "import numpy as np\n",
        "import matplotlib.pyplot as plt\n",
        "import matplotlib.cm as cm"
      ],
      "metadata": {
        "id": "rAwFc8cVSXtW"
      },
      "execution_count": null,
      "outputs": []
    },
    {
      "cell_type": "code",
      "source": [
        "losses = [[15, 0],[5, 1], [1, 40],[0, 150]]\n",
        "actions_names = ['Important','Show', 'Folder', 'Delete']\n",
        "num_actions = len(losses)\n",
        "def expected_loss_of_action(prob_spam, action):\n",
        "    #TODO: Return expected loss over a Bernoulli random variable\n",
        "    # with mean prob_spam.\n",
        "    # Losses are given by the table above.\n",
        "    return losses[action][0] * prob_spam + losses[action][1] * (1 - prob_spam)\n",
        "    \n",
        "prob_range = np.linspace(0., 1., num=600) \n",
        "\n",
        "# Make plot\n",
        "for action in range(num_actions):\n",
        "    plt.plot(prob_range, expected_loss_of_action(prob_range, action), label=actions_names[action])\n",
        "\n",
        "plt.xlabel('$p(spam|email)$')\n",
        "plt.ylabel('Expected loss of action')\n",
        "plt.legend()\n"
      ],
      "metadata": {
        "id": "CwqF1QStyUI0",
        "colab": {
          "base_uri": "https://localhost:8080/",
          "height": 300
        },
        "outputId": "27a29a04-064b-4f8e-9063-e50d043f4481"
      },
      "execution_count": null,
      "outputs": [
        {
          "output_type": "execute_result",
          "data": {
            "text/plain": [
              "<matplotlib.legend.Legend at 0x7f29b6c5db20>"
            ]
          },
          "metadata": {},
          "execution_count": 2
        },
        {
          "output_type": "display_data",
          "data": {
            "text/plain": [
              "<Figure size 432x288 with 1 Axes>"
            ],
            "image/png": "[encoded data removed]"
          },
          "metadata": {
            "needs_background": "light"
          }
        }
      ]
    },
    {
      "cell_type": "markdown",
      "source": [
        "## Q1.2\n",
        "[2pts] Write a function that computes the optimal action given the probability of spam."
      ],
      "metadata": {
        "id": "oqtMD5X4NZ1d"
      }
    },
    {
      "cell_type": "code",
      "source": [
        "def optimal_action(prob_spam):\n",
        "    #TODO: return best action given the probability of spam. \n",
        "    #Hint: np.argmin might be helpful.\n",
        "    action_probs = []\n",
        "    for i in range(len(actions_names)):\n",
        "      action_probs.append(expected_loss_of_action(prob_spam, i))\n",
        "    return np.argmin(action_probs)\n",
        "    "
      ],
      "metadata": {
        "id": "7gLS3sO1NiPv"
      },
      "execution_count": null,
      "outputs": []
    },
    {
      "cell_type": "markdown",
      "source": [
        "## Q1.3\n",
        "[4pts] Plot the expected loss of the optimal action as a function of the probability of spam.\n",
        "\n",
        "\n",
        "Color the line according to the optimal action for that probability of spam.\n"
      ],
      "metadata": {
        "id": "TaIhABveNinu"
      }
    },
    {
      "cell_type": "code",
      "source": [
        "prob_range = np.linspace(0., 1., num=600) \n",
        "optimal_losses = []\n",
        "optimal_actions = []\n",
        "for p in prob_range:\n",
        "    # TODO: Compute the optimal action and its expected loss for\n",
        "    # probability of spam given by p.\n",
        "    action = optimal_action(p)\n",
        "    loss = expected_loss_of_action(p, action)\n",
        "    optimal_losses.append(loss)\n",
        "    optimal_actions.append(action)\n",
        "\n",
        "plt.xlabel('p(spam|email)')\n",
        "plt.ylabel('Expected loss of optimal action')\n",
        "plt.plot(prob_range, optimal_losses)\n",
        "plt.legend(optimal_actions)\n",
        "plt.show()\n",
        "losses = [[15, 0],[5, 1], [1, 40],[0, 150]]"
      ],
      "metadata": {
        "id": "Gdk3OQLONo-P",
        "colab": {
          "base_uri": "https://localhost:8080/",
          "height": 280
        },
        "outputId": "9606bb5f-cb52-4125-9174-f5dab6a89868"
      },
      "execution_count": null,
      "outputs": [
        {
          "output_type": "display_data",
          "data": {
            "text/plain": [
              "<Figure size 432x288 with 1 Axes>"
            ],
            "image/png": "[encoded data removed]"
          },
          "metadata": {
            "needs_background": "light"
          }
        }
      ]
    },
    {
      "cell_type": "markdown",
      "source": [
        "## Q1.4\n",
        "[4pts] For exactly which range of the probabilities of an email being spam should we delete an email?\n",
        "\n",
        "Find the exact answer by hand using algebra."
      ],
      "metadata": {
        "id": "M0eRJyGdNpXA"
      }
    },
    {
      "cell_type": "markdown",
      "source": [
        "We know \n",
        "\\begin{align}\n",
        "    E[\\texttt{important}] = 15p + 0(1-p) &= 15p \\\\\n",
        "    E[\\texttt{show}] = 5p + 1(1-p) = 5p + 1 - p &= 4p + 1 \\\\\n",
        "    E[\\texttt{spam}] = 1p + 40(1-p) = p + 40 - 40p &= 40 - 39p \\\\\n",
        "    E[\\texttt{delete}] = 0p + 150(1-p) &= 150 - 150p\n",
        "\\end{align}\n",
        "\n",
        "When $E[\\texttt{delete}] = E[\\texttt{important}]$:\n",
        "\\begin{align}\n",
        "    15p &= 150-150p \\\\\n",
        "    165p &= 150 \\\\\n",
        "    p &= \\frac{150}{165} \\approx 0.909 \\\\\n",
        "\\end{align}\n",
        "\n",
        "When $E[\\texttt{delete}] = E[\\texttt{show}]$:\n",
        "\\begin{align}\n",
        "    4p+1 &= 150 - 150p \\\\\n",
        "    154p &= 149 \\\\\n",
        "    p &= \\frac{149}{154} \\approx 0.968 \\\\\n",
        "\\end{align}\n",
        "\n",
        "When $E[\\texttt{delete}] = E[\\texttt{spam}]$:\n",
        "\\begin{align}\n",
        "    40 - 39p &= 150 - 150p \\\\\n",
        "    111p &= 110 \\\\\n",
        "    p &= \\frac{110}{111} \\approx 0.991 \\\\\n",
        "\\end{align}\n",
        "\n",
        "We want to delete when the expected loss of deleting is smaller than the loss of the other actions. Therefore, \n",
        "\n",
        "At $p = \\frac{150}{165}$:\n",
        "\\begin{align}\n",
        "    E[\\texttt{important}] = 15(\\frac{150}{165}) = 13.636 \\\\\n",
        "    E[\\texttt{show}] = 4(\\frac{150}{165}) + 1 = 4.636 \\\\\n",
        "    E[\\texttt{spam}] = 40 - 39(\\frac{150}{165}) = 4.545 \\\\\n",
        "    E[\\texttt{delete}] = 150 - 150(\\frac{150}{165}) = 13.636\n",
        "\\end{align}\n",
        "\n",
        "So we should not delete at $p = \\frac{150}{165}$. \n",
        "\n",
        "At $p = \\frac{149}{154}$:\n",
        "\\begin{align}\n",
        "    E[\\texttt{important}] = 15(\\frac{149}{154}) = 14.513 \\\\\n",
        "    E[\\texttt{show}] = 4(\\frac{149}{154}) + 1 = 4.870  \\\\\n",
        "    E[\\texttt{spam}] = 40 - 39(\\frac{149}{154}) =  2.266 \\\\\n",
        "    E[\\texttt{delete}] = 150 - 150(\\frac{149}{154}) = 4.870\n",
        "\\end{align}\n",
        "\n",
        "So we should not delete at $p = \\frac{149}{154}$.\n",
        "\n",
        "At $p = \\frac{110}{111}$:\n",
        "\\begin{align}\n",
        "    E[\\texttt{important}] = 15(\\frac{110}{111}) = 14.865 \\\\\n",
        "    E[\\texttt{show}] = 4(\\frac{110}{111}) + 1 = 4.964 \\\\\n",
        "    E[\\texttt{spam}] = 40 - 39(\\frac{110}{111}) =  1.351 \\\\\n",
        "    E[\\texttt{delete}] = 150 - 150(\\frac{110}{111}) = 1.351\n",
        "\\end{align}\n",
        "\n",
        "So we can delete at $p = \\frac{110}{111}$. Similarly when $p < \\frac{110}{111}$, then the losses will be $< 14.865, 4.964, 1.351, 1.351$. So we can also delete then. \n",
        "\n",
        "Thus, given $p(\\texttt{spam}|\\texttt{email})$, we should delete when $p <= \\frac{110}{111}$. We can have equality here because the expected loss of deleting vs marking as spam is equal."
      ],
      "metadata": {
        "id": "fr_ghgvoUz5p"
      }
    },
    {
      "cell_type": "markdown",
      "source": [
        "# Q2 - Naïve Bayes, A Generative Model"
      ],
      "metadata": {
        "id": "H1kRdfM6ol0R"
      }
    },
    {
      "cell_type": "markdown",
      "source": [
        "![](https://github.com/zalandoresearch/fashion-mnist/blob/master/doc/img/fashion-mnist-sprite.png?raw=true)\n",
        "\n",
        "\n",
        "In this question, we'll fit a Naïve Bayes model to the fashion MNIST dataset, and use this model for making predictions and generating new images from the same distribution. MNIST is a dataset of 28x28 black-and-white images of items of clothing. We represent each image by a vector $x^{(i)} \\in \\{0,1\\}^{784}$, where 0 and 1 represent white and black pixels respectively. Each class label $c^{(i)}$ is a different item of clothing, which in the code is represented by a 10-dimensional one-hot vector.\n",
        "\n",
        "The Naïve Bayes model parameterized by $\\theta$ and $\\pi$ defines the following joint probability of $x$ and $c$,\n",
        "$$p(x,c|\\theta,\\pi) = p(c|\\pi)p(x|c,\\theta) = p(c|\\pi)\\prod_{j=1}^{784}p(x_j|c,\\theta),$$\n",
        "where $x_j | c,\\theta \\sim \\operatorname{Bernoulli}(\\theta_{jc})$ or in other words $p(x_j | c,\\theta) = \\theta_{jc}^{x_j}(1-\\theta_{jc})^{1-x_j}$, and $c|\\pi$ follows a simple categorical distribution, i.e. $p(c|\\pi) = \\pi_c$.\n",
        "\n",
        "We begin by learning the parameters $\\theta$ and $\\pi$. The following code will download and prepare the training and test sets."
      ],
      "metadata": {
        "id": "Je6H8FAKpqmF"
      }
    },
    {
      "cell_type": "code",
      "source": [
        "import numpy as np\n",
        "import os\n",
        "import gzip\n",
        "import struct\n",
        "import array\n",
        "import matplotlib.pyplot as plt\n",
        "import matplotlib.image\n",
        "from urllib.request import urlretrieve\n",
        "\n",
        "def download(url, filename):\n",
        "    if not os.path.exists('data'):\n",
        "        os.makedirs('data')\n",
        "    out_file = os.path.join('data', filename)\n",
        "    if not os.path.isfile(out_file):\n",
        "        urlretrieve(url, out_file)\n",
        "\n",
        "\n",
        "def fashion_mnist():\n",
        "    base_url = 'http://fashion-mnist.s3-website.eu-central-1.amazonaws.com/'\n",
        "\n",
        "    def parse_labels(filename):\n",
        "        with gzip.open(filename, 'rb') as fh:\n",
        "            magic, num_data = struct.unpack(\">II\", fh.read(8))\n",
        "            return np.array(array.array(\"B\", fh.read()), dtype=np.uint8)\n",
        "\n",
        "    def parse_images(filename):\n",
        "        with gzip.open(filename, 'rb') as fh:\n",
        "            magic, num_data, rows, cols = struct.unpack(\">IIII\", fh.read(16))\n",
        "            return np.array(array.array(\"B\", fh.read()), dtype=np.uint8).reshape(num_data, rows, cols)\n",
        "\n",
        "    for filename in ['train-images-idx3-ubyte.gz',\n",
        "                     'train-labels-idx1-ubyte.gz',\n",
        "                     't10k-images-idx3-ubyte.gz',\n",
        "                     't10k-labels-idx1-ubyte.gz']:\n",
        "        download(base_url + filename, filename)\n",
        "\n",
        "    train_images = parse_images('data/train-images-idx3-ubyte.gz')\n",
        "    train_labels = parse_labels('data/train-labels-idx1-ubyte.gz')\n",
        "    test_images = parse_images('data/t10k-images-idx3-ubyte.gz')\n",
        "    test_labels = parse_labels('data/t10k-labels-idx1-ubyte.gz')\n",
        "    # Remove the data point that cause log(0)\n",
        "    remove = (14926, 20348, 36487, 45128, 50945, 51163, 55023)\n",
        "    train_images = np.delete(train_images,remove, axis=0)\n",
        "    train_labels = np.delete(train_labels, remove, axis=0)\n",
        "    return train_images, train_labels, test_images[:1000], test_labels[:1000]\n",
        "\n",
        "\n",
        "def load_fashion_mnist():\n",
        "    partial_flatten = lambda x: np.reshape(x, (x.shape[0], np.prod(x.shape[1:])))\n",
        "    one_hot = lambda x, k: np.array(x[:, None] == np.arange(k)[None, :], dtype=int)\n",
        "    train_images, train_labels, test_images, test_labels =  fashion_mnist()\n",
        "    train_images = (partial_flatten(train_images) / 255.0 > .5).astype(float)\n",
        "    test_images = (partial_flatten(test_images) / 255.0 > .5).astype(float)\n",
        "    train_labels = one_hot(train_labels, 10)\n",
        "    test_labels = one_hot(test_labels, 10)\n",
        "    N_data = train_images.shape[0]\n",
        "\n",
        "    return N_data, train_images, train_labels, test_images, test_labels"
      ],
      "metadata": {
        "id": "k587bbiSvhB4"
      },
      "execution_count": null,
      "outputs": []
    },
    {
      "cell_type": "markdown",
      "source": [
        "## Q2.1\n",
        "[2pts] Derive the expression for the Maximum Likelihood Estimator (MLE) of $\\theta$ and $\\pi$."
      ],
      "metadata": {
        "id": "qgGhDuEBvuMI"
      }
    },
    {
      "cell_type": "markdown",
      "source": [
        "Suppose we have $n$ training samples. The likelihood function is:\n",
        "\n",
        "\\begin{align}\n",
        "    L(\\theta, \\pi) &= \\prod_{i = 1}^{n} p(x^{(i)}, c^{(i)} | \\theta, \\pi) \\\\\n",
        "    &= \\prod_{i = 1}^{n} p(c^{(i)} | \\pi) \\prod_{j = 1}^{784} p(x_j^{(i)} | c^{(i)}, \\theta)\n",
        "\\end{align}\n",
        "\n",
        "The log-likelihood is therefore:\n",
        "\n",
        "\\begin{align}\n",
        "    \\ell(\\theta, \\pi) &= log [\\prod_{i = 1}^{n} p(c^{(i)} | \\pi) \\prod_{j = 1}^{784} p(x_j^{(i)} | c^{(i)}, \\theta)] \\\\\n",
        "    &= \\sum_{i = 1}^{n} [\\text{log } p(c^{(i)}, \\pi) + \\text{log } \\prod_{j = 1}^{784} p(x_j^{(i)} | c^{(i)}, \\theta)] \\\\\n",
        "    &= \\sum_{i = 1}^{n} \\text{log } p(c^{(i)}, \\pi) + \\sum_{i = 1}^{n} \\text{log } \\prod_{j = 1}^{784} p(x_j^{(i)} | c^{(i)}, \\theta) \\\\\n",
        "    &= \\sum_{i = 1}^{n} \\text{log } p(c^{(i)}, \\pi) + \\sum_{i = 1}^{n} \\sum_{j = 1}^{784} \\text{log } p(x_j^{(i)} | c^{(i)}, \\theta) \\\\\n",
        "\\end{align}\n",
        "\n",
        "We can see that the first term only depends on $\\pi$ and the second term only depends on $\\theta$. So we can maximize each term independently to find the maximum likelihood estimators of $\\pi$ and $\\theta$. Let's look at the first term, $\\sum_{i = 1}^{n} \\text{log } p(c^{(i)}, \\pi)$. \n",
        "\n",
        "We know $c^{(i)} | \\pi$  follows a simple categorical distribution, i.e. $p(c^{(i)}|\\pi)=\\pi_c^{(i)}$. Thus, $p(c^{(i)}, \\pi) = \\prod_{j = 0}^{9} \\pi_j^{\\textbf{1}(c^{(i)} = c)}$.\n",
        "\n",
        "\\begin{align}\n",
        "    \\sum_{i = 1}^{n} \\text{log } p(c^{(i)}, \\pi) &= \\sum_{i = 1}^{n} \\text{log } \\prod_{j = 0}^{9} \\pi_j^{\\textbf{1}(c^{(i)} = c)} \\\\\n",
        "    &= \\sum_{i = 1}^{n} \\sum_{j = 0}^{9} \\textbf{1}(c^{(i)} = c) \\text{log } \\pi_{j} \\\\\n",
        "\\end{align}\n",
        "\n",
        "Next, we use the fact that $\\sum_{j = 0}^{9} \\pi_j = 1$. \n",
        "\n",
        "\\begin{align}\n",
        "    \\sum_{i = 1}^{n} \\sum_{j = 0}^{9} \\textbf{1}(c^{(i)} = c) \\text{log } \\pi_{j} &= \\sum_{i = 1}^{n} \\sum_{j = 0}^{8} \\textbf{1}(c^{(i)} = c)\\text{log } \\pi_{j} + 1 - \\sum_{j = 0}^{9} \\pi_j \n",
        "\\end{align}\n",
        "\n",
        "Next, we take the derivative with respect to $\\pi_j$ and set it equal to 0:\n",
        "\n",
        "\\begin{align}\n",
        "    \\frac{\\partial}{\\partial \\pi_j} [\\sum_{i = 1}^{n} \\sum_{j = 0}^{8} \\textbf{1}(c^{(i)} = c)\\text{log } \\pi_{j} + 1 - \\sum_{j = 0}^{9} \\pi_j ] &= \\sum_{i = 1}^{n} \\frac{\\textbf{1}(c^{(i)} = c)}{\\pi_j} -  1 \\\\ \n",
        "    &= 0 \\\\\n",
        "\\end{align}\n",
        "\n",
        "\n",
        "\\begin{align}\n",
        "    \\sum_{i = 1}^{n} \\frac{\\textbf{1}(c^{(i)} = c)}{\\pi_j} &= \\sum_{i = 1}^{n} 1 \\\\\n",
        "    \\sum_{i = 1}^{n} \\frac{\\textbf{1}(c^{(i)} = c)}{\\pi_j} &= n \\\\\n",
        "\\end{align}\n",
        "So the maximum likelihood estimator of $\\pi$ is \n",
        "\\begin{align}\n",
        "    \\hat{\\pi}_j &= \\sum_{i = 1}^{n} \\frac{\\textbf{1}(c^{(i)} = c)}{n}\n",
        "\\end{align}\n",
        "\n",
        "Next, we look at the second term $\\sum_{i = 1}^{n} \\sum_{j = 1}^{784} \\text{log } p(x_j^{(i)} | c^{(i)}, \\theta)$.\n",
        "\n",
        "\\begin{align}\n",
        "    \\sum_{i = 1}^{n} \\sum_{j = 1}^{784} \\text{log } p(x_j^{(i)} | c^{(i)}, \\theta) &= \\sum_{i = 1}^{n} \\sum_{j = 1}^{784} x_j^{(i)} \\text{log } \\theta_{} + (1 - x_j^{(i)})\\text{log}(1 - \\theta)\n",
        "\\end{align}\n",
        "\n",
        "Taking the derivative with respect to $\\theta$, we have\n",
        "\n",
        "\\begin{align}\n",
        "    \\frac{\\partial}{\\partial \\theta} [\\sum_{i = 1}^{n} \\sum_{j = 1}^{784} x_j^{(i)} \\text{log } \\theta_{} + (1 - x_j^{(i)})\\text{log}(1 - \\theta)] &= \\sum_{i = 1}^{n} \\frac{x_j^{(i)}\\textbf{1}(c^{(i)} = c)}{\\theta_{}} - \\frac{(1 - x_j^{(i)})\\textbf{1}(c^{(i)} = c)}{1 - \\theta} \\\\\n",
        "    &= \\sum_{i = 1}^{n} \\frac{x_j^{(i)}\\textbf{1}(c^{(i)} = c)(1 - \\theta) - \\theta (1 - x_j^{(i)})\\textbf{1}(c^{(i)} = c)}{\\theta(1 - \\theta)} \\\\\n",
        "    &= \\sum_{i = 1}^{n} \\frac{x_j^{(i)}\\textbf{1}(c^{(i)} = c) - \\theta x_j^{(i)}\\textbf{1}(c^{(i)} = c) - \\theta \\textbf{1}(c^{(i)} = c) + \\theta x_j^{(i)}\\textbf{1}(c^{(i)} = c)}{\\theta(1 - \\theta)} \\\\\n",
        "    &= \\sum_{i = 1}^{n} \\frac{x_j^{(i)} \\textbf{1}(c^{(i)} = c) - \\theta \\textbf{1}(c^{(i)} = c) }{\\theta(1 - \\theta)}\n",
        "\\end{align}\n",
        "\n",
        "Setting to 0, we have\n",
        "\\begin{align}\n",
        "    \\sum_{i = 1}^{n} \\frac{x_j^{(i)}\\textbf{1}(c^{(i)} = c) - \\theta \\textbf{1}(c^{(i)} = c) }{\\theta(1 - \\theta)} &= 0 \\\\\n",
        "    \\sum_{i = 1}^{n} x_j^{(i)}\\textbf{1}(c^{(i)} = c) &= \\sum_{i = 1}^{n} \\theta \\textbf{1}(c^{(i)} = c)\n",
        "\\end{align}\n",
        "\n",
        "So the maximum likelihood estimator for $\\theta$ is given by\n",
        "\n",
        "\\begin{align}\n",
        "    \\hat{\\theta} = \\sum_{i = 1}^{n} \\frac{x_j^{(i)}\\textbf{1}(c^{(i)} = c)}{\\textbf{1}(c^{(i)} = c)}\n",
        "\\end{align}."
      ],
      "metadata": {
        "id": "cISpi3BUOdEp"
      }
    },
    {
      "cell_type": "markdown",
      "source": [
        "## Q2.2\n",
        "[4pts] Using the MLE for this data, many entries of $\\theta$ will be estimated to be 0, which seems extreme. So we look for another estimation method.\n",
        "\n",
        "Assume the prior distribution of $\\theta$ is such that the entries are i.i.d. and drawn from $\\operatorname{Beta}(2,2)$. Derive the Maximum A Posteriori (MAP) estimator for $\\theta$ (it has a simple final form). You can return the MLE for $\\pi$ in your implementation. From now on, we will work with this estimator."
      ],
      "metadata": {
        "id": "gTMSP01Sw-F5"
      }
    },
    {
      "cell_type": "markdown",
      "source": [
        "We know $\\theta \\sim \\text{Beta}(2, 2)$, which is given by $\\frac{\\theta(1 - \\theta)}{B(2, 2)}$ where $B(2, 2) = \\frac{\\Gamma(2)\\Gamma(2)}{\\Gamma(4)}$ and $\\Gamma$ is the Gamma function. Simplifying, this is $\\frac{\\theta(1 - \\theta)}{6}$ since $B(2, 2) = \\frac{1}{6}$. So, our prior distribution is $g(\\theta) = \\frac{\\theta(1 - \\theta)}{6}$. The posterior distribution is proportional to the prior times the likelihood:\n",
        "\\begin{align}\n",
        "    p(\\theta | x) \\propto L(x | \\theta) g(\\theta)  \n",
        "\\end{align}\n",
        "Where since we are trying to maximize $\\theta$, we can ignore the parts that depend only on $\\pi$, as well as ignore the denominator. Thus, we have:\n",
        "\n",
        "\\begin{align}\n",
        "    p(\\theta | x) &\\propto L(x | \\theta) g(\\theta) \\\\\n",
        "    &= \\sum_{i = 1}^{n} [\\prod_{i = 1}^{784} \\theta^{x_j^{(i)}}(1 - \\theta)^{1 - x_j^{(i)}}]\\theta(1 - \\theta) \\\\\n",
        "    &= \\sum_{i = 1}^{n} [\\sum_{i = 1}^{784} x_j^{(i)} \\text{log } \\theta_{} + (1 - x_j^{(i)})\\text{log}(1 - \\theta)] + \\text{log }\\theta + \\text{log }(1 - \\theta) \\tag{applying log} \\\\\n",
        "\\end{align}\n",
        "\n",
        "Taking the derivative with respect to $\\theta$, we have\n",
        "\\begin{align}\n",
        "    &\\frac{\\partial}{\\partial \\theta} [\\sum_{i = 1}^{n} [\\sum_{i = 1}^{784} x_j^{(i)} \\text{log } \\theta_{} + (1 - x_j^{(i)})\\text{log}(1 - \\theta)] + \\text{log }\\theta + \\text{log }(1 - \\theta)] \\\\\n",
        "    &= \\sum_{i = 1}^{n} [\\frac{x_j^{(i)} - \\theta}{\\theta(1 - \\theta)}\\textbf{1}(c^{(i)} = c)] + \\frac{1}{\\theta} - \\frac{1}{1 - \\theta}\n",
        "\\end{align}\n",
        "\n",
        "Setting to 0 and solving for $\\theta$:\n",
        "\\begin{align}\n",
        "    \\sum_{i = 1}^{n} [\\frac{x_j^{(i)} - \\theta}{\\theta(1 - \\theta)}\\textbf{1}(c^{(i)} = c)] + \\frac{1}{\\theta} - \\frac{1}{1 - \\theta} &= 0 \\\\\n",
        "    \\sum_{i = 1}^{n} [\\frac{x_j^{(i)} - \\theta}{\\theta(1 - \\theta)}\\textbf{1}(c^{(i)} = c)] + \\frac{1 - 2\\theta}{\\theta(1 - \\theta)} &= 0 \\\\\n",
        "    \\sum_{i = 1}^{n} [\\frac{x_j^{(i)} - \\theta}{\\theta(1 - \\theta)}\\textbf{1}(c^{(i)} = c)] &= \\frac{2\\theta - 1}{\\theta(1 - \\theta)} \\\\\n",
        "    \\sum_{i = 1}^{n} [(x_j^{(i)} - \\theta )\\textbf{1}(c^{(i)} = c)] &= 2\\theta - 1 \\\\\n",
        "    \\sum_{i = 1}^{n} [(x_j^{(i)} \\textbf{1}(c^{(i)} = c)- \\theta \\textbf{1}(c^{(i)} = c)] &= 2\\theta - 1 \\\\\n",
        "    \\sum_{i = 1}^{n} [(x_j^{(i)} \\textbf{1}(c^{(i)} = c)] + 1 &= 2\\theta + \\sum_{i = 1}^{n} \\theta \\textbf{1}(c^{(i)} = c) \\\\\n",
        "    \\sum_{i = 1}^{n} [x_j^{(i)} \\textbf{1}(c^{(i)} = c)] + 1 &= \\theta (2 + \\sum_{i = 1}^{n} \\textbf{1}(c^{(i)} = c))\n",
        "\\end{align}\n",
        "\n",
        "Finally, we have that the MAP for $\\theta$ is given by\n",
        "\\begin{align}\n",
        "    \\hat{\\theta}_{MAP} = \\frac{\\sum_{i = 1}^{n} [x_j^{(i)} \\textbf{1}(c^{(i)} = c)] + 1}{2 + \\sum_{i = 1}^{n} \\textbf{1}(c^{(i)} = c)}\n",
        "\\end{align}\n"
      ],
      "metadata": {
        "id": "uI3hcFf1Of82"
      }
    },
    {
      "cell_type": "code",
      "source": [
        "def train_map_estimator(train_images, train_labels):\n",
        "    \"\"\" Inputs: train_images (N_samples x N_features), train_labels (N_samples x N_classes)\n",
        "        Returns the MAP estimator theta_est (N_features x N_classes) and the MLE\n",
        "        estimator pi_est (N_classes)\"\"\"\n",
        "    \n",
        "    # YOU NEED TO WRITE THIS PART\n",
        "    labels_sum = np.sum(train_labels, axis=0)\n",
        "    \n",
        "    pi_est = labels_sum / train_labels.shape[0]\n",
        "    theta_est = (np.matmul(train_images.T, train_labels) + 1) / (2 + labels_sum)\n",
        "\n",
        "    return theta_est, pi_est "
      ],
      "metadata": {
        "id": "v49Abi0uxeII"
      },
      "execution_count": null,
      "outputs": []
    },
    {
      "cell_type": "markdown",
      "source": [
        "## Q2.3\n",
        "[5pts] Derive an expression for the class log-likelihood $\\log p(c|x,\\theta,\\pi)$ for a single image. Then, complete the implementation of the following functions. Recall that our prediction rule is to choose the class that maximizes the above log-likelihood, and accuracy is defined as the fraction of samples that are correctly predicted.\n",
        "\n",
        "Report the average log-likelihood $\\frac{1}{N}\\sum_{i=1}^{N}\\log p(c^{(i)}|x^{(i)},\\hat{\\theta},\\hat{\\pi})$ (where $N$ is the number of samples) on the training test, as well the training and test errors."
      ],
      "metadata": {
        "id": "7yO5yq0dyus4"
      }
    },
    {
      "cell_type": "markdown",
      "source": [
        "By Baye's rule:\n",
        "\n",
        "\\begin{align}\n",
        "    \\text{log } p(c|x, \\theta, \\pi) &= \\text{log }\\frac{p(x, c|\\theta, \\pi)}{p(x | \\theta, \\pi)} \\\\\n",
        "    &= \\text{log } \\frac{p(c|\\pi)p(x|c, \\theta)}{p(x|\\theta, \\pi)} \\\\\n",
        "    &= \\text{log } \\frac{p(c|\\pi)p(x|c, \\theta)}{\\sum_{c = 0}^{9}p(x, c|\\theta, \\pi)} \\\\\n",
        "    &= \\text{log } \\frac{p(c|\\pi)p(x|c, \\theta)}{\\sum_{c = 0}^{9}p(c|\\pi) p(x|c, \\pi)} \\\\\n",
        "    &= \\text{log }p(c|\\pi) + \\text{log }p(x|c, \\theta) - \\text{log } (\\sum_{c = 0}^{9}p(c|\\pi) p(x|c, \\pi))\n",
        "\\end{align}\n",
        "\n",
        "Where we have $\\log p(c|\\pi) p(x|c, \\pi) = \\text{log }\\pi_c + \\sum_{j = 1}^{784} [x_j^{(i)} \\log \\theta + (1 - x_j^{(i)}) \\log (1 - \\theta)]$ \n"
      ],
      "metadata": {
        "id": "36FW8dZpOhb7"
      }
    },
    {
      "cell_type": "code",
      "source": [
        "def log_likelihood(images, theta, pi):\n",
        "    \"\"\" Inputs: images (N_samples x N_features), theta, pi\n",
        "        Returns the matrix 'log_like' of loglikehoods over the input images where\n",
        "        log_like[i,c] = log p (c |x^(i), theta, pi) using the estimators theta and pi.\n",
        "        log_like is a matrix of (N_samples x N_classes)\n",
        "    Note that log likelihood is not only for c^(i), it is for all possible c's.\"\"\"\n",
        "\n",
        "    x = np.log(pi) + np.matmul(images, np.log(theta)) + np.matmul(1 - images, np.log(1 - theta))\n",
        "    y = np.log(np.sum(np.exp(x), axis=1))\n",
        "\n",
        "    return np.transpose(np.transpose(x) - y) \n",
        "\n",
        "\n",
        "def accuracy(log_like, labels):\n",
        "    \"\"\" Inputs: matrix of log likelihoods and 1-of-K labels (N_samples x N_classes)\n",
        "    Returns the accuracy based on predictions from log likelihood values\"\"\"\n",
        "\n",
        "    return np.mean(np.argmax(log_like, 1) == np.argmax(labels, 1))\n",
        "\n",
        "\n",
        "N_data, train_images, train_labels, test_images, test_labels = load_fashion_mnist()\n",
        "theta_est, pi_est = train_map_estimator(train_images, train_labels)\n",
        "\n",
        "loglike_train = log_likelihood(train_images, theta_est, pi_est)\n",
        "avg_loglike = np.sum(loglike_train * train_labels) / N_data\n",
        "train_accuracy = accuracy(loglike_train, train_labels)\n",
        "loglike_test = log_likelihood(test_images, theta_est, pi_est)\n",
        "test_accuracy = accuracy(loglike_test, test_labels)\n",
        "\n",
        "print(f\"Average log-likelihood for MAP is {avg_loglike:.3f}\")\n",
        "print(f\"Training accuracy for MAP is {train_accuracy:.3f}\")\n",
        "print(f\"Test accuracy for MAP is {test_accuracy:.3f}\")"
      ],
      "metadata": {
        "id": "6RZwBnVh0Zoo",
        "colab": {
          "base_uri": "https://localhost:8080/"
        },
        "outputId": "88c9d3a3-d77e-4c89-c953-6b7ee5a272cc"
      },
      "execution_count": null,
      "outputs": [
        {
          "output_type": "stream",
          "name": "stdout",
          "text": [
            "Average log-likelihood for MAP is -34.231\n",
            "Training accuracy for MAP is 0.651\n",
            "Test accuracy for MAP is 0.638\n"
          ]
        }
      ]
    },
    {
      "cell_type": "markdown",
      "source": [
        "## Q2.4\n",
        "[2pts] Given this model's assumptions, is it always true that any two pixels $x_i$ and $x_j$ with $i \\neq j$ are indenepdent given $c$? How about after marginalizing over $c$? Explain your answer.\n"
      ],
      "metadata": {
        "id": "qFJkXeMK2mwP"
      }
    },
    {
      "cell_type": "markdown",
      "source": [
        "\n",
        "One of the assumptions that a Naive Baye's model makes is that $p(x_i, x_j|c) = p(x_i|c)p(x_j|c)$ $\\textbf{(1)}$. So they are independent given $c$. \n",
        "\n",
        "After marginalizing over $c$, the joint probability of $x_i, x_j$ is given by \n",
        "\\begin{align}\n",
        "    p(x_i, x_j) &= \\sum_{c'} p(x_i, x_j, c) \\\\\n",
        "    &= \\sum_{c'} p(x_i, x_j | c)p(c) \\tag{By Baye's Rule} \\\\\n",
        "    &= \\sum_{c'} p(x_i|c)p(x_j | c) p(c) \\tag{By (1)}\n",
        "\\end{align}\n",
        "\n",
        "However if we were to have independence, \n",
        "\\begin{align}\n",
        "    p(x_i)p(x_j) &= \\sum_{c'}p(x_i,c)\\sum_{c'}p(x_j,c) \\\\\n",
        "    &= \\sum_{c'}p(x_i|c)p(c)\\sum_{c'}p(x_j|c)p(c)\n",
        "\\end{align}\n",
        "\n",
        "Which is not equal to $\\sum_{c'} p(x_i|c)p(x_j | c) p(c)$. So we do not have independence after marginalizing. "
      ],
      "metadata": {
        "id": "ImntAmpWOjYe"
      }
    },
    {
      "cell_type": "markdown",
      "source": [
        "## Q2.5 \n",
        "[4pts] Since we have a generative model for our data, we can do more than just prediction. Randomly sample and plot 10 images from the learned distribution using the MAP estimates. (Hint: You first need to sample the class $c$, and then sample pixels conditioned on $c$.)"
      ],
      "metadata": {
        "id": "_P4Y1x_G28QD"
      }
    },
    {
      "cell_type": "code",
      "source": [
        "def image_sampler(theta, pi, num_images):\n",
        "    \"\"\" Inputs: parameters theta and pi, and number of images to sample\n",
        "    Returns the sampled images (N_images x N_features)\"\"\"\n",
        "\n",
        "    N_features = theta.shape[0]\n",
        "    sampled_images = np.zeros((num_images, N_features))\n",
        "    \n",
        "    for i in range(num_images):\n",
        "      choice = np.random.choice(pi.shape[0], p=pi)\n",
        "      sampled_images[i, :] = np.random.binomial(1, theta[:, choice])\n",
        "\n",
        "    return sampled_images\n",
        "\n",
        "\n",
        "def plot_images(images, ims_per_row=5, padding=5, image_dimensions=(28, 28),\n",
        "                cmap=matplotlib.cm.binary, vmin=0., vmax=1.):\n",
        "    \"\"\"Images should be a (N_images x pixels) matrix.\"\"\"\n",
        "    fig = plt.figure(1)\n",
        "    fig.clf()\n",
        "    ax = fig.add_subplot(111)\n",
        "\n",
        "    N_images = images.shape[0]\n",
        "    N_rows = np.int32(np.ceil(float(N_images) / ims_per_row))\n",
        "    pad_value = vmin\n",
        "    concat_images = np.full(((image_dimensions[0] + padding) * N_rows + padding,\n",
        "                             (image_dimensions[1] + padding) * ims_per_row + padding), pad_value)\n",
        "    for i in range(N_images):\n",
        "        cur_image = np.reshape(images[i, :], image_dimensions)\n",
        "        row_ix = i // ims_per_row\n",
        "        col_ix = i % ims_per_row\n",
        "        row_start = padding + (padding + image_dimensions[0]) * row_ix\n",
        "        col_start = padding + (padding + image_dimensions[1]) * col_ix\n",
        "        concat_images[row_start: row_start + image_dimensions[0],\n",
        "                      col_start: col_start + image_dimensions[1]] = cur_image\n",
        "        cax = ax.matshow(concat_images, cmap=cmap, vmin=vmin, vmax=vmax)\n",
        "        plt.xticks(np.array([]))\n",
        "        plt.yticks(np.array([]))\n",
        "    \n",
        "    plt.plot()\n",
        "\n",
        "\n",
        "sampled_images = image_sampler(theta_est, pi_est, 10)\n",
        "plot_images(sampled_images)"
      ],
      "metadata": {
        "id": "amV0qFMC3myy",
        "colab": {
          "base_uri": "https://localhost:8080/",
          "height": 178
        },
        "outputId": "6df1c986-de51-41c2-fd77-54c81809727b"
      },
      "execution_count": null,
      "outputs": [
        {
          "output_type": "display_data",
          "data": {
            "text/plain": [
              "<Figure size 432x288 with 1 Axes>"
            ],
            "image/png": "[encoded data removed]"
          },
          "metadata": {}
        }
      ]
    },
    {
      "cell_type": "markdown",
      "source": [
        "## Q2.6\n",
        "[4pts] One of the advantages of generative models is that they can handle missing data, or be used to answer different sorts of questions about the model. Assume we have only observed some pixels of the image. Let $x_E = \\{x_p : \\text{pixel $p$ is observed}\\}$. Derive an expression for $p(x_j|x_E,\\theta,\\pi)$, the conditional probability of an unobserved pixel $j$ given the observed pixels and distribution parameters. (Hint: You have to marginalize over $c$.)"
      ],
      "metadata": {
        "id": "qCYQ6VVx5YI5"
      }
    },
    {
      "cell_type": "markdown",
      "source": [
        "\\begin{align}\n",
        "    p(x_j|x_E, \\theta, \\pi) &= \\frac{p(x_j, x_E|\\theta, \\pi)}{p(x_E|\\theta, \\pi)} \\tag{Baye's Rule} \\\\\n",
        "    &= \\frac{\\sum_{c = 0}^{9}p(x_j, x_E, c|\\theta, \\pi)}{\\sum_{c = 0}^{9} p(x_E, c|\\theta, \\pi)} \\tag{Marginalizing over c} \\\\\n",
        "    &= \\frac{\\sum_{c = 0}^{9}p(c|\\pi) p(x_j, x_E, c|\\theta)}{\\sum_{c = 0}^{9} p(c|\\pi) p(x_E, c|\\theta)} \\\\\n",
        "    &= \\frac{\\sum_{c = 0}^{9}p(c|\\pi) p(x_j|c, \\theta) p(x_E|c, \\theta)}{\\sum_{c = 0}^{9} p(c|\\pi) p(x_E, c|\\theta)} \\tag{By assumption of Naive Baye's}\n",
        "\\end{align}"
      ],
      "metadata": {
        "id": "GGT2yAtLOmJW"
      }
    },
    {
      "cell_type": "markdown",
      "source": [
        "## Q2.7\n",
        "[4pts] We assume that only 30% of the pixels are observed. For the first 20 images in the training set, plot the images when the unobserved pixels are left as white, as well as the same images when the unobserved pixels are filled with the marginal probability of the pixel being 1 given the observed pixels, i.e. the value of the unobserved pixel $j$ is $p(x_j = 1|x_E,\\theta,\\pi)$."
      ],
      "metadata": {
        "id": "5qGf4Rwx6ZPy"
      }
    },
    {
      "cell_type": "code",
      "source": [
        "def probabilistic_imputer(theta, pi, original_images, is_observed):\n",
        "    \"\"\"Inputs: parameters theta and pi, original_images (N_images x N_features), \n",
        "        and is_observed which has the same shape as original_images, with a value\n",
        "        1. in every observed entry and 0. in every unobserved entry.\n",
        "    Returns the new images where unobserved pixels are replaced by their \n",
        "    conditional probability\"\"\"\n",
        "    \n",
        "    N_images = original_images.shape[0]\n",
        "    imputed_images = original_images.copy()\n",
        "    N_classes = pi.shape[0]\n",
        "\n",
        "    for i in range(N_images):\n",
        "      x_E = original_images[i][is_observed[i] == 1]\n",
        "      theta_i = theta[is_observed[i] == 1]\n",
        "      \n",
        "      log_prob_x_E =  np.matmul(np.log(theta_i.T), x_E) + np.matmul(np.log(1 - theta_i.T), 1 - x_E)\n",
        "      prob_x_E = np.exp(log_prob_x_E)\n",
        "\n",
        "      theta_j = theta[is_observed[i] == 0]\n",
        "      prob_x_j = np.sum(theta_j * prob_x_E.reshape(1, -1), axis=1) / np.sum(prob_x_E)\n",
        "      \n",
        "      imputed_images[i, is_observed[i] == 0] = prob_x_j\n",
        "\n",
        "    return imputed_images\n",
        "    \n",
        "num_features = train_images.shape[1]\n",
        "is_observed = np.random.binomial(1, p=0.3, size=(20, num_features))\n",
        "plot_images(train_images[:20] * is_observed)"
      ],
      "metadata": {
        "id": "k8g40hvw6pE_",
        "colab": {
          "base_uri": "https://localhost:8080/",
          "height": 255
        },
        "outputId": "287049ad-1d31-4876-e277-3519dc07df55"
      },
      "execution_count": null,
      "outputs": [
        {
          "output_type": "display_data",
          "data": {
            "text/plain": [
              "<Figure size 432x288 with 1 Axes>"
            ],
            "image/png": "[encoded data removed]"
          },
          "metadata": {}
        }
      ]
    },
    {
      "cell_type": "code",
      "source": [
        "imputed_images = probabilistic_imputer(theta_est, pi_est, train_images[:20], is_observed)\n",
        "plot_images(imputed_images)"
      ],
      "metadata": {
        "id": "RtOM8Ba4uVQj",
        "colab": {
          "base_uri": "https://localhost:8080/",
          "height": 255
        },
        "outputId": "4c44f480-e3af-4ec8-e6b4-bda8e6dc8832"
      },
      "execution_count": null,
      "outputs": [
        {
          "output_type": "display_data",
          "data": {
            "text/plain": [
              "<Figure size 432x288 with 1 Axes>"
            ],
            "image/png": "[encoded data removed]"
          },
          "metadata": {}
        }
      ]
    }
  ]
}